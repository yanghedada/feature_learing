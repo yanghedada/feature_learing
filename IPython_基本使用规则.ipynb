{
 "cells": [
  {
   "cell_type": "markdown",
   "metadata": {},
   "source": [
    "# 执行当前cell，并自动跳到下一个cell：Shift Enter\n",
    "\n",
    "执行当前cell，执行后不自动调转到下一个cell：Ctrl-Enter\n",
    "\n",
    "是当前的cell进入编辑模式：Enter\n",
    "\n",
    "退出当前cell的编辑模式：Esc\n",
    "\n",
    "删除当前的cell：双D\n",
    "\n",
    "为当前的cell加入line number：单L\n",
    "\n",
    "将当前的cell转化为具有一级标题的maskdown：单1\n",
    "\n",
    "将当前的cell转化为具有二级标题的maskdown：单2\n",
    "\n",
    "将当前的cell转化为具有三级标题的maskdown：单3\n",
    "\n",
    "为一行或者多行添加/取消注释：Crtl /\n",
    "\n",
    "撤销对某个cell的删除：z\n",
    "\n",
    "浏览器的各个Tab之间切换：Crtl PgUp和Crtl PgDn\n",
    "\n",
    "快速跳转到首个cell：Crtl Home\n",
    "\n",
    "快速跳转到最后一个cell：Crtl End11"
   ]
  },
  {
   "cell_type": "markdown",
   "metadata": {},
   "source": [
    "# 四、Jupyter Notebook如何导入代码1"
   ]
  },
  {
   "cell_type": "markdown",
   "metadata": {},
   "source": [
    "## 问题背景：有一个test.py文件，需要将其载入到jupyter的一个cell中 \n",
    "test.py内容如下"
   ]
  },
  {
   "cell_type": "markdown",
   "metadata": {},
   "source": [
    "方法步骤： \n",
    "（1）在需要导入该段代码的cell中输入\n",
    "\n",
    "%load bayers.py #bayers.py是当前路径下的一个python文件\n",
    "\n",
    "利用快捷键“Shift+Enter”，可以看到如下结果： "
   ]
  },
  {
   "cell_type": "code",
   "execution_count": 1,
   "metadata": {
    "collapsed": false
   },
   "outputs": [
    {
     "name": "stdout",
     "output_type": "stream",
     "text": [
      "['love', 'my', 'dalmation'] classified as:  0\n",
      "['stupid', 'garbage'] classified as:  1\n"
     ]
    }
   ],
   "source": [
    "# %load bayers.py\n",
    "\"\"\"\n",
    "Created on Fri Mar  9 19:15:01 2018\n",
    "\n",
    "@author: yanghe\n",
    "\"\"\"\n",
    "\n",
    "import   numpy as np\n",
    "\n",
    "def loadDataSet():\n",
    "    postingList = [['my','dog','has','flea','problems','help','please'],\n",
    "                   ['maybe','not','take','him','to','dog','park','stupid'],\n",
    "                   ['my','dalmation','is','so','cute','I','love','him'],\n",
    "                   ['stop','posting','stupid','worthless','garbage'],\n",
    "                   ['mr','licks','ate','my','steak','how','to','stop','him'],\n",
    "                   ['quit','buying','worthless','dog','food','stupid']]\n",
    "    classVec = [0,1,0,1,0,1]\n",
    "    return postingList, classVec\n",
    "\n",
    "    \n",
    "    \n",
    "def createVocabList(dataSet):\n",
    "    vocabSet = set([])      #创建一个空集\n",
    "    for document in dataSet:\n",
    "        vocabSet = vocabSet | set(document)   #创建两个集合的并集\n",
    "    return list(vocabSet)\n",
    "    \n",
    "    \n",
    "    \n",
    "    #将文档词条转换成词向量\n",
    "def setOfWords2Vec(vocabList, inputSet):\n",
    "    returnVec = [0]*len(vocabList)        #创建一个其中所含元素都为0的向量\n",
    "    for word in inputSet:\n",
    "        if word in vocabList:\n",
    "            #returnVec[vocabList.index(word)] = 1     #index函数在字符串里找到字符第一次出现的位置  词集模型\n",
    "            returnVec[vocabList.index(word)] += 1      #文档的词袋模型    每个单词可以出现多次\n",
    "        else: \n",
    "            print (\"the word: %s is not in my Vocabulary!\" % word)\n",
    "    return returnVec\n",
    "def trainNB0(trainMatrix, trainCategory):\n",
    "    numTrainDocs = len(trainMatrix)\n",
    "    numWords = len(trainMatrix[0])\n",
    "    pAbusive = sum(trainCategory)/float(numTrainDocs)\n",
    "    # p0Num = zeros(numWords); p1Num = zeros(numWords)\n",
    "    #p0Denom = 0.0; p1Denom = 0.0\n",
    "    p0Num = np.ones(numWords);   #避免一个概率值为0,最后的乘积也为0\n",
    "    p1Num = np.ones(numWords);   #用来统计两类数据中，各词的词频     \n",
    "    p0Denom = 2.0;  #用于统计0类中的总数\n",
    "    p1Denom = 2.0  #用于统计1类中的总数 \n",
    "    for i in range(numTrainDocs):\n",
    "        if trainCategory[i] == 1:\n",
    "            p1Num += trainMatrix[i]\n",
    "            p1Denom += sum(trainMatrix[i])\n",
    "        else:\n",
    "            p0Num += trainMatrix[i]\n",
    "            p0Denom += sum(trainMatrix[i])        \n",
    "    \n",
    "    # p1Vect = p1Num / p1Denom\n",
    "    #p0Vect = p0Num / p0Denom\n",
    "    p1Vect = np.log(p1Num / p1Denom)    #在类1中，每个次的发生概率\n",
    "    p0Vect = np.log(p0Num / p0Denom)      #避免下溢出或者浮点数舍入导致的错误   下溢出是由太多很小的数相乘得到的\n",
    "    return p0Vect, p1Vect, pAbusive\n",
    "\n",
    "def classifyNB(vec2Classify, p0Vec, p1Vec, pClass1):\n",
    "    p1 = sum(vec2Classify*p1Vec) + np.log(pClass1)\n",
    "    p0 = sum(vec2Classify*p0Vec) + np.log(1.0-pClass1)\n",
    "    if p1 > p0:\n",
    "        return 1\n",
    "    else: return 0\n",
    "def testingNB():\n",
    "    listOPosts, listClasses = loadDataSet()\n",
    "    myVocabList = createVocabList(listOPosts)\n",
    "    trainMat = []\n",
    "    for postinDoc in listOPosts:\n",
    "        trainMat.append(setOfWords2Vec(myVocabList, postinDoc))\n",
    "    p0V, p1V, pAb = trainNB0(np.array(trainMat), np.array(listClasses))\n",
    "    testEntry = ['love','my','dalmation']\n",
    "    thisDoc = np.array(setOfWords2Vec(myVocabList, testEntry))\n",
    "    print (testEntry, 'classified as: ', classifyNB(thisDoc, p0V, p1V, pAb))\n",
    "    testEntry = ['stupid','garbage']\n",
    "    thisDoc = np.array(setOfWords2Vec(myVocabList, testEntry))\n",
    "    print (testEntry, 'classified as: ', classifyNB(thisDoc, p0V, p1V, pAb))\n",
    "    \n",
    "testingNB()    \n",
    "    \n",
    "    \n",
    "    "
   ]
  },
  {
   "cell_type": "markdown",
   "metadata": {},
   "source": [
    "3）可以看到，运行后，%load test.py被自动加入了注释符号#，\n",
    "\n",
    "bayers.py中的所有代码都被load到了当前的cell中\n",
    "\n",
    "并输出了 ，运行结果"
   ]
  },
  {
   "cell_type": "markdown",
   "metadata": {},
   "source": [
    "# 4.2 从网络load代码到jupyter\n",
    "\n",
    "在cell中输入 %load https://matplotlib.org/mpl_examples/color/color_cycle_demo.py\n",
    "然后运行该cell，就会将load后面所对应地址的代码load到当前的cell中；\n",
    "\n",
    "下面给出一个例子，导入matplotlib中的一个小例子color example code\n",
    "\n",
    "首先，在想要导入该段代码的cell中输入 :\n",
    "\n",
    "%load https://matplotlib.org/mpl_examples/color/color_cycle_demo.py"
   ]
  },
  {
   "cell_type": "code",
   "execution_count": 2,
   "metadata": {
    "collapsed": false
   },
   "outputs": [
    {
     "data": {
      "image/png": "[encoded data removed]",
      "text/plain": [
       "<matplotlib.figure.Figure at 0x29f10f43b38>"
      ]
     },
     "metadata": {},
     "output_type": "display_data"
    }
   ],
   "source": [
    "# %load https://matplotlib.org/mpl_examples/color/color_cycle_demo.py\n",
    "\"\"\"\n",
    "===================\n",
    "Styling with cycler\n",
    "===================\n",
    "\n",
    "Demo of custom property-cycle settings to control colors and other style\n",
    "properties for multi-line plots.\n",
    "\n",
    "This example demonstrates two different APIs:\n",
    "\n",
    "    1. Setting the default rc parameter specifying the property cycle.\n",
    "       This affects all subsequent axes (but not axes already created).\n",
    "    2. Setting the property cycle for a single pair of axes.\n",
    "\"\"\"\n",
    "from cycler import cycler\n",
    "import numpy as np\n",
    "import matplotlib.pyplot as plt\n",
    "\n",
    "\n",
    "x = np.linspace(0, 2 * np.pi)\n",
    "offsets = np.linspace(0, 2*np.pi, 4, endpoint=False)\n",
    "# Create array with shifted-sine curve along each column\n",
    "yy = np.transpose([np.sin(x + phi) for phi in offsets])\n",
    "\n",
    "# 1. Setting prop cycle on default rc parameter\n",
    "plt.rc('lines', linewidth=4)\n",
    "plt.rc('axes', prop_cycle=(cycler('color', ['r', 'g', 'b', 'y']) +\n",
    "                           cycler('linestyle', ['-', '--', ':', '-.'])))\n",
    "fig, (ax0, ax1) = plt.subplots(nrows=2)\n",
    "ax0.plot(yy)\n",
    "ax0.set_title('Set default color cycle to rgby')\n",
    "\n",
    "# 2. Define prop cycle for single set of axes\n",
    "ax1.set_prop_cycle(cycler('color', ['c', 'm', 'y', 'k']) +\n",
    "                   cycler('lw', [1, 2, 3, 4]))\n",
    "ax1.plot(yy)\n",
    "ax1.set_title('Set axes color cycle to cmyk')\n",
    "\n",
    "# Tweak spacing between subplots to prevent labels from overlapping\n",
    "fig.subplots_adjust(hspace=0.3)\n",
    "plt.show()\n"
   ]
  },
  {
   "cell_type": "markdown",
   "metadata": {},
   "source": [
    "3）可以看到，运行后，\n",
    "\n",
    "%load https://matplotlib.org/mpl_examples/color/color_cycle_demo.py \n",
    "\n",
    "被自动加入了注释符号#，test.py中的所有代码都被load到了当前的cell中"
   ]
  },
  {
   "cell_type": "markdown",
   "metadata": {},
   "source": [
    "# 五、Jupyter运行python文件\n",
    "\n",
    "利用jupyter的cell是可以运行python文件的，即在cell中运行如下代码："
   ]
  },
  {
   "cell_type": "code",
   "execution_count": 3,
   "metadata": {
    "collapsed": false
   },
   "outputs": [
    {
     "name": "stdout",
     "output_type": "stream",
     "text": [
      "['love', 'my', 'dalmation'] classified as:  0\n",
      "['stupid', 'garbage'] classified as:  1\n"
     ]
    }
   ],
   "source": [
    "%run bayers.py"
   ]
  },
  {
   "cell_type": "markdown",
   "metadata": {},
   "source": [
    "bayers.py 为要运行的python程序，\n",
    "\n",
    "结果会显示在该cell中 \n"
   ]
  },
  {
   "cell_type": "markdown",
   "metadata": {},
   "source": [
    "# 六、Jupyter一些其他琐碎用法\n",
    "\n",
    "6.1 jupyter的cell可以作为unix command使用\n",
    "\n",
    "具体方法为：在unitx command前面加入一个感叹号“！”"
   ]
  },
  {
   "cell_type": "markdown",
   "metadata": {},
   "source": [
    "## 查看python版本"
   ]
  },
  {
   "cell_type": "code",
   "execution_count": 4,
   "metadata": {
    "collapsed": false
   },
   "outputs": [
    {
     "name": "stderr",
     "output_type": "stream",
     "text": [
      "Python 3.5.2 :: Continuum Analytics, Inc.\n"
     ]
    }
   ],
   "source": [
    "! python --version"
   ]
  },
  {
   "cell_type": "markdown",
   "metadata": {},
   "source": [
    "## 运行python文件"
   ]
  },
  {
   "cell_type": "code",
   "execution_count": 5,
   "metadata": {
    "collapsed": false
   },
   "outputs": [
    {
     "name": "stdout",
     "output_type": "stream",
     "text": [
      "['love', 'my', 'dalmation'] classified as:  0\n",
      "['stupid', 'garbage'] classified as:  1\n"
     ]
    }
   ],
   "source": [
    "!python bayers.py"
   ]
  },
  {
   "cell_type": "markdown",
   "metadata": {
    "collapsed": true
   },
   "source": [
    "## 6.3 获取current working directory2"
   ]
  },
  {
   "cell_type": "code",
   "execution_count": 6,
   "metadata": {
    "collapsed": false
   },
   "outputs": [
    {
     "data": {
      "text/plain": [
       "'E:\\\\python\\\\computer'"
      ]
     },
     "execution_count": 6,
     "metadata": {},
     "output_type": "execute_result"
    }
   ],
   "source": [
    "current_path = %pwd\n",
    "current_path"
   ]
  },
  {
   "cell_type": "markdown",
   "metadata": {},
   "source": [
    "## 6.4 使用Matplotlib绘图\n",
    "\n",
    "在Jupyter Notebook中，如果使用Matplotlib绘图，有时是弹不出图像框的，此时，可以在开头加入"
   ]
  },
  {
   "cell_type": "markdown",
   "metadata": {},
   "source": [
    "%matplotlib inline"
   ]
  },
  {
   "cell_type": "markdown",
   "metadata": {},
   "source": [
    "# 你可以通过修改内核选项ast_note_interactivity，使得Jupyter对独占一行的所有变量或者语句都自动显示\n",
    "，这样你就可以马上看到多个语句的运行结果了。"
   ]
  },
  {
   "cell_type": "code",
   "execution_count": 2,
   "metadata": {
    "collapsed": false
   },
   "outputs": [],
   "source": [
    "import pandas as pd\n",
    "import numpy as np"
   ]
  },
  {
   "cell_type": "code",
   "execution_count": 3,
   "metadata": {
    "collapsed": true
   },
   "outputs": [],
   "source": [
    "data = pd.DataFrame(np.random.randn(5,4))"
   ]
  },
  {
   "cell_type": "code",
   "execution_count": 4,
   "metadata": {
    "collapsed": false
   },
   "outputs": [
    {
     "data": {
      "text/html": [
       "<div>\n",
       "<style>\n",
       "    .dataframe thead tr:only-child th {\n",
       "        text-align: right;\n",
       "    }\n",
       "\n",
       "    .dataframe thead th {\n",
       "        text-align: left;\n",
       "    }\n",
       "\n",
       "    .dataframe tbody tr th {\n",
       "        vertical-align: top;\n",
       "    }\n",
       "</style>\n",
       "<table border=\"1\" class=\"dataframe\">\n",
       "  <thead>\n",
       "    <tr style=\"text-align: right;\">\n",
       "      <th></th>\n",
       "      <th>0</th>\n",
       "      <th>1</th>\n",
       "      <th>2</th>\n",
       "      <th>3</th>\n",
       "    </tr>\n",
       "  </thead>\n",
       "  <tbody>\n",
       "    <tr>\n",
       "      <th>0</th>\n",
       "      <td>-1.587784</td>\n",
       "      <td>-0.279549</td>\n",
       "      <td>0.909739</td>\n",
       "      <td>0.181523</td>\n",
       "    </tr>\n",
       "    <tr>\n",
       "      <th>1</th>\n",
       "      <td>-0.035821</td>\n",
       "      <td>2.615358</td>\n",
       "      <td>0.459575</td>\n",
       "      <td>-0.268085</td>\n",
       "    </tr>\n",
       "    <tr>\n",
       "      <th>2</th>\n",
       "      <td>-1.077362</td>\n",
       "      <td>0.683665</td>\n",
       "      <td>0.516593</td>\n",
       "      <td>-0.755739</td>\n",
       "    </tr>\n",
       "    <tr>\n",
       "      <th>3</th>\n",
       "      <td>0.431051</td>\n",
       "      <td>0.268775</td>\n",
       "      <td>-1.092543</td>\n",
       "      <td>0.010276</td>\n",
       "    </tr>\n",
       "    <tr>\n",
       "      <th>4</th>\n",
       "      <td>-0.473357</td>\n",
       "      <td>-2.249139</td>\n",
       "      <td>1.579788</td>\n",
       "      <td>-1.540658</td>\n",
       "    </tr>\n",
       "  </tbody>\n",
       "</table>\n",
       "</div>"
      ],
      "text/plain": [
       "          0         1         2         3\n",
       "0 -1.587784 -0.279549  0.909739  0.181523\n",
       "1 -0.035821  2.615358  0.459575 -0.268085\n",
       "2 -1.077362  0.683665  0.516593 -0.755739\n",
       "3  0.431051  0.268775 -1.092543  0.010276\n",
       "4 -0.473357 -2.249139  1.579788 -1.540658"
      ]
     },
     "execution_count": 4,
     "metadata": {},
     "output_type": "execute_result"
    }
   ],
   "source": [
    "data.head()\n",
    "data.tail()"
   ]
  },
  {
   "cell_type": "markdown",
   "metadata": {},
   "source": [
    "# 以通过修改内核选项ast_note_interactivity1"
   ]
  },
  {
   "cell_type": "code",
   "execution_count": 5,
   "metadata": {
    "collapsed": true
   },
   "outputs": [],
   "source": [
    "from IPython.core.interactiveshell import InteractiveShell\n",
    "InteractiveShell.ast_node_interactivity = \"all\""
   ]
  },
  {
   "cell_type": "code",
   "execution_count": 6,
   "metadata": {
    "collapsed": false
   },
   "outputs": [
    {
     "data": {
      "text/html": [
       "<div>\n",
       "<style>\n",
       "    .dataframe thead tr:only-child th {\n",
       "        text-align: right;\n",
       "    }\n",
       "\n",
       "    .dataframe thead th {\n",
       "        text-align: left;\n",
       "    }\n",
       "\n",
       "    .dataframe tbody tr th {\n",
       "        vertical-align: top;\n",
       "    }\n",
       "</style>\n",
       "<table border=\"1\" class=\"dataframe\">\n",
       "  <thead>\n",
       "    <tr style=\"text-align: right;\">\n",
       "      <th></th>\n",
       "      <th>0</th>\n",
       "      <th>1</th>\n",
       "      <th>2</th>\n",
       "      <th>3</th>\n",
       "    </tr>\n",
       "  </thead>\n",
       "  <tbody>\n",
       "    <tr>\n",
       "      <th>0</th>\n",
       "      <td>-1.587784</td>\n",
       "      <td>-0.279549</td>\n",
       "      <td>0.909739</td>\n",
       "      <td>0.181523</td>\n",
       "    </tr>\n",
       "    <tr>\n",
       "      <th>1</th>\n",
       "      <td>-0.035821</td>\n",
       "      <td>2.615358</td>\n",
       "      <td>0.459575</td>\n",
       "      <td>-0.268085</td>\n",
       "    </tr>\n",
       "    <tr>\n",
       "      <th>2</th>\n",
       "      <td>-1.077362</td>\n",
       "      <td>0.683665</td>\n",
       "      <td>0.516593</td>\n",
       "      <td>-0.755739</td>\n",
       "    </tr>\n",
       "    <tr>\n",
       "      <th>3</th>\n",
       "      <td>0.431051</td>\n",
       "      <td>0.268775</td>\n",
       "      <td>-1.092543</td>\n",
       "      <td>0.010276</td>\n",
       "    </tr>\n",
       "    <tr>\n",
       "      <th>4</th>\n",
       "      <td>-0.473357</td>\n",
       "      <td>-2.249139</td>\n",
       "      <td>1.579788</td>\n",
       "      <td>-1.540658</td>\n",
       "    </tr>\n",
       "  </tbody>\n",
       "</table>\n",
       "</div>"
      ],
      "text/plain": [
       "          0         1         2         3\n",
       "0 -1.587784 -0.279549  0.909739  0.181523\n",
       "1 -0.035821  2.615358  0.459575 -0.268085\n",
       "2 -1.077362  0.683665  0.516593 -0.755739\n",
       "3  0.431051  0.268775 -1.092543  0.010276\n",
       "4 -0.473357 -2.249139  1.579788 -1.540658"
      ]
     },
     "execution_count": 6,
     "metadata": {},
     "output_type": "execute_result"
    },
    {
     "data": {
      "text/html": [
       "<div>\n",
       "<style>\n",
       "    .dataframe thead tr:only-child th {\n",
       "        text-align: right;\n",
       "    }\n",
       "\n",
       "    .dataframe thead th {\n",
       "        text-align: left;\n",
       "    }\n",
       "\n",
       "    .dataframe tbody tr th {\n",
       "        vertical-align: top;\n",
       "    }\n",
       "</style>\n",
       "<table border=\"1\" class=\"dataframe\">\n",
       "  <thead>\n",
       "    <tr style=\"text-align: right;\">\n",
       "      <th></th>\n",
       "      <th>0</th>\n",
       "      <th>1</th>\n",
       "      <th>2</th>\n",
       "      <th>3</th>\n",
       "    </tr>\n",
       "  </thead>\n",
       "  <tbody>\n",
       "    <tr>\n",
       "      <th>0</th>\n",
       "      <td>-1.587784</td>\n",
       "      <td>-0.279549</td>\n",
       "      <td>0.909739</td>\n",
       "      <td>0.181523</td>\n",
       "    </tr>\n",
       "    <tr>\n",
       "      <th>1</th>\n",
       "      <td>-0.035821</td>\n",
       "      <td>2.615358</td>\n",
       "      <td>0.459575</td>\n",
       "      <td>-0.268085</td>\n",
       "    </tr>\n",
       "    <tr>\n",
       "      <th>2</th>\n",
       "      <td>-1.077362</td>\n",
       "      <td>0.683665</td>\n",
       "      <td>0.516593</td>\n",
       "      <td>-0.755739</td>\n",
       "    </tr>\n",
       "    <tr>\n",
       "      <th>3</th>\n",
       "      <td>0.431051</td>\n",
       "      <td>0.268775</td>\n",
       "      <td>-1.092543</td>\n",
       "      <td>0.010276</td>\n",
       "    </tr>\n",
       "    <tr>\n",
       "      <th>4</th>\n",
       "      <td>-0.473357</td>\n",
       "      <td>-2.249139</td>\n",
       "      <td>1.579788</td>\n",
       "      <td>-1.540658</td>\n",
       "    </tr>\n",
       "  </tbody>\n",
       "</table>\n",
       "</div>"
      ],
      "text/plain": [
       "          0         1         2         3\n",
       "0 -1.587784 -0.279549  0.909739  0.181523\n",
       "1 -0.035821  2.615358  0.459575 -0.268085\n",
       "2 -1.077362  0.683665  0.516593 -0.755739\n",
       "3  0.431051  0.268775 -1.092543  0.010276\n",
       "4 -0.473357 -2.249139  1.579788 -1.540658"
      ]
     },
     "execution_count": 6,
     "metadata": {},
     "output_type": "execute_result"
    }
   ],
   "source": [
    "data.head()\n",
    "data.tail()"
   ]
  },
  {
   "cell_type": "markdown",
   "metadata": {},
   "source": [
    "# Jupyter Magic命令"
   ]
  },
  {
   "cell_type": "markdown",
   "metadata": {},
   "source": [
    "%run:运行python代码\n",
    "%run ./two-histograms.ipynb\n",
    "\n",
    "    \n",
    "\n",
    "%load：从外部脚本中**代码\n",
    "%load ./hello_world.py\n",
    "\n",
    "\n",
    "%store：在notebook文件之间传递变量\n",
    "data = 'this is the string I want to pass to different notebook'\n",
    "%store data\n",
    "#del data # This has deleted the variable\n",
    "现在，在一个新的notebook文档里……\n",
    "\n",
    "%store -r data\n",
    "print(data)\n",
    "\n",
    "\n",
    "\n",
    "%who：列出所有的全局变量\n",
    "\n",
    " %who str\n",
    "    \n",
    "    \n",
    "Magic-计时\n",
    "\n",
    "有两种用于计时的jupyter magic命令： \n",
    "%%time 和 %timeit.当你有一些很耗时的代码，\n",
    "想要查清楚问题出在哪时，这两个命令非常给力。 \n",
    "\n",
    "%%time 会告诉你cell内代码的单次运行时间信息。\n",
    "%%time\n",
    "        import time\n",
    "        for _ in range(1000):\n",
    "            time.sleep(0.01)# sleep for 0.01 seconds\n",
    "\n",
    "输出 ：CPU times: user 21.5 ms, sys: 14.8 ms, total: 36.3 ms\n",
    "        Wall time: 11.6 s\n",
    "            \n",
    "            \n",
    "%%timeit 使用了Python的 timeit 模块，该模块运行某语句100，000次（默认值），\n",
    "然后提供最快的3次的平均值作为结果。\n",
    " import numpy\n",
    "%timeit numpy.random.normal(size=100)"
   ]
  },
  {
   "cell_type": "markdown",
   "metadata": {},
   "source": [
    "# 在notebook内部运行shell命令很简单，这样你就可以看到你的工作文件夹里有哪些数据集。添加  符号 ‘！’ 例如 ！python"
   ]
  },
  {
   "cell_type": "code",
   "execution_count": 11,
   "metadata": {
    "collapsed": false
   },
   "outputs": [
    {
     "name": "stdout",
     "output_type": "stream",
     "text": [
      " 驱动器 E 中的卷是 文档\n",
      " 卷的序列号是 2AF0-8CDF\n",
      "\n",
      " E:\\python\\computer 的目录\n",
      "\n"
     ]
    },
    {
     "name": "stderr",
     "output_type": "stream",
     "text": [
      "找不到文件\n"
     ]
    }
   ],
   "source": [
    "!dir  *.csv"
   ]
  },
  {
   "cell_type": "markdown",
   "metadata": {},
   "source": [
    "# 在notebook内用不同的内核运行代码\n",
    "\n",
    "如果你想要，其实可以把不同内核的代码结合到一个notebook里运行。 \n",
    "\n",
    "只需在每个单元格的起始，用Jupyter magics调用kernal的名称：\n",
    "%%bash \n",
    "\n",
    "%%HTML \n",
    "\n",
    "%%python2 \n",
    "\n",
    "%%python3\n",
    "\n",
    "%%ruby \n",
    "\n",
    "%%perl"
   ]
  },
  {
   "cell_type": "code",
   "execution_count": null,
   "metadata": {
    "collapsed": true
   },
   "outputs": [],
   "source": []
  }
 ],
 "metadata": {
  "anaconda-cloud": {},
  "kernelspec": {
   "display_name": "Python [default]",
   "language": "python",
   "name": "python3"
  },
  "language_info": {
   "codemirror_mode": {
    "name": "ipython",
    "version": 3
   },
   "file_extension": ".py",
   "mimetype": "text/x-python",
   "name": "python",
   "nbconvert_exporter": "python",
   "pygments_lexer": "ipython3",
   "version": "3.5.2"
  }
 },
 "nbformat": 4,
 "nbformat_minor": 1
}
